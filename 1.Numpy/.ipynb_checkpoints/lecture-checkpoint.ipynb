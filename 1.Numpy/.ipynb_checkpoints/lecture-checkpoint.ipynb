{
 "cells": [
  {
   "cell_type": "code",
   "execution_count": 4,
   "id": "c1ba02c6-4f09-42ae-ac53-50161b0bd49b",
   "metadata": {},
   "outputs": [],
   "source": [
    "import sys\n",
    "import numpy as np"
   ]
  },
  {
   "cell_type": "markdown",
   "id": "5e32a71e-656b-4468-b0a4-160f7a073103",
   "metadata": {},
   "source": [
    "# Basic Numpy Arrays"
   ]
  },
  {
   "cell_type": "code",
   "execution_count": 6,
   "id": "5bf645eb-fba6-41cf-8bbd-cc99df10fd71",
   "metadata": {},
   "outputs": [],
   "source": [
    "a = np.array([1, 2, 3, 4])"
   ]
  },
  {
   "cell_type": "code",
   "execution_count": 9,
   "id": "10f7e1dc-0b23-4457-9f7f-8c46a1a2d978",
   "metadata": {},
   "outputs": [
    {
     "data": {
      "text/plain": [
       "(np.int64(1), np.int64(2))"
      ]
     },
     "execution_count": 9,
     "metadata": {},
     "output_type": "execute_result"
    }
   ],
   "source": [
    "a[0], a[1]"
   ]
  },
  {
   "cell_type": "code",
   "execution_count": 10,
   "id": "8771b66e-7819-446a-9f6f-9f55d8c44a6d",
   "metadata": {},
   "outputs": [
    {
     "data": {
      "text/plain": [
       "array([1, 2])"
      ]
     },
     "execution_count": 10,
     "metadata": {},
     "output_type": "execute_result"
    }
   ],
   "source": [
    "a[0:2]"
   ]
  },
  {
   "cell_type": "code",
   "execution_count": 17,
   "id": "858eac9d-6baf-4f39-be75-df0e2bc6bcdf",
   "metadata": {},
   "outputs": [
    {
     "data": {
      "text/plain": [
       "array([4, 3, 2, 1])"
      ]
     },
     "execution_count": 17,
     "metadata": {},
     "output_type": "execute_result"
    }
   ],
   "source": [
    "a[::-1]"
   ]
  },
  {
   "cell_type": "code",
   "execution_count": 13,
   "id": "e57daff8-776a-4992-8ab3-b45cdf964abe",
   "metadata": {},
   "outputs": [
    {
     "data": {
      "text/plain": [
       "array([2, 3, 4])"
      ]
     },
     "execution_count": 13,
     "metadata": {},
     "output_type": "execute_result"
    }
   ],
   "source": [
    "a[1:]"
   ]
  },
  {
   "cell_type": "code",
   "execution_count": 16,
   "id": "f7c9383a-a869-40e6-9243-ff2135676a3d",
   "metadata": {},
   "outputs": [
    {
     "data": {
      "text/plain": [
       "array([2, 4])"
      ]
     },
     "execution_count": 16,
     "metadata": {},
     "output_type": "execute_result"
    }
   ],
   "source": [
    "a[1::2] # 间隔2"
   ]
  },
  {
   "cell_type": "code",
   "execution_count": 18,
   "id": "e30f4e83-15bf-413e-8e06-1e5326700c6d",
   "metadata": {},
   "outputs": [
    {
     "name": "stdout",
     "output_type": "stream",
     "text": [
      "[2 3 4 5 6]\n",
      "[0 1 2 3 4]\n",
      "[5 6 7 8 9]\n",
      "[0 2 4 6 8]\n",
      "[1 3 5 7 9]\n",
      "[9 8 7 6 5 4 3 2 1 0]\n",
      "[7 8 9]\n",
      "[0 1 2 3 4 5 6]\n",
      "[5 4 3]\n"
     ]
    }
   ],
   "source": [
    "arr = np.array([0, 1, 2, 3, 4, 5, 6, 7, 8, 9])\n",
    "\n",
    "print(arr[2:7])    # [2 3 4 5 6]  索引 2 到 6 (7 不包含)\n",
    "print(arr[:5])     # [0 1 2 3 4]  开始到索引 4\n",
    "print(arr[5:])     # [5 6 7 8 9]  索引 5 到结束\n",
    "print(arr[::2])    # [0 2 4 6 8]  步长为 2\n",
    "print(arr[1::2])   # [1 3 5 7 9]  索引 1 开始，步长 2\n",
    "print(arr[::-1])   # [9 8 ... 0]  逆序\n",
    "print(arr[-3:])    # [7 8 9]      最后三个元素\n",
    "print(arr[:-3])    # [0 1 2 3 4 5 6] 除最后三个外\n",
    "print(arr[5:2:-1]) # [5 4 3]      逆序步长"
   ]
  },
  {
   "cell_type": "code",
   "execution_count": 19,
   "id": "11cbbd22-04bd-4fc8-8e2e-41d3e3bba0bf",
   "metadata": {},
   "outputs": [
    {
     "name": "stdout",
     "output_type": "stream",
     "text": [
      "[1 2 3 4]\n",
      "[ 2  6 10]\n",
      "[[2 3]\n",
      " [6 7]]\n",
      "[[ 1  3]\n",
      " [ 5  7]\n",
      " [ 9 11]]\n",
      "[[ 9 11]\n",
      " [ 5  7]\n",
      " [ 1  3]]\n"
     ]
    }
   ],
   "source": [
    "arr2d = np.array([[1, 2, 3, 4],\n",
    "                  [5, 6, 7, 8],\n",
    "                  [9, 10, 11, 12]])\n",
    "\n",
    "# 选择第 0 行\n",
    "print(arr2d[0, :])   # [1 2 3 4]  或 arr2d[0]\n",
    "# 选择第 1 列\n",
    "print(arr2d[:, 1])   # [2 6 10]\n",
    "# 选择子区域：前两行，第 1 到 3 列（索引 1 和 2）\n",
    "print(arr2d[:2, 1:3])\n",
    "# [[2 3]\n",
    "#  [6 7]]\n",
    "# 步长：所有行，第 0 和第 2 列（步长 2）\n",
    "print(arr2d[:, ::2])\n",
    "# [[ 1  3]\n",
    "#  [ 5  7]\n",
    "#  [ 9 11]]\n",
    "# 同时使用步长和逆序：行逆序，列步长 2\n",
    "print(arr2d[::-1, ::2])\n",
    "# [[ 9 11]\n",
    "#  [ 5  7]\n",
    "#  [ 1  3]]"
   ]
  },
  {
   "cell_type": "markdown",
   "id": "f1f4335e-e442-44b1-827f-40cfd2dcb83c",
   "metadata": {},
   "source": [
    "# Array Type"
   ]
  },
  {
   "cell_type": "code",
   "execution_count": 20,
   "id": "3039d2cd-5786-4740-a946-0c84848810f0",
   "metadata": {},
   "outputs": [
    {
     "data": {
      "text/plain": [
       "array([1, 2, 3, 4])"
      ]
     },
     "execution_count": 20,
     "metadata": {},
     "output_type": "execute_result"
    }
   ],
   "source": [
    "a"
   ]
  },
  {
   "cell_type": "code",
   "execution_count": 22,
   "id": "de18cbd9-4aa7-4cc8-bf47-e83f418694d1",
   "metadata": {},
   "outputs": [
    {
     "data": {
      "text/plain": [
       "dtype('int64')"
      ]
     },
     "execution_count": 22,
     "metadata": {},
     "output_type": "execute_result"
    }
   ],
   "source": [
    "a.dtype"
   ]
  },
  {
   "cell_type": "code",
   "execution_count": 23,
   "id": "766f0478-bf55-498d-8cef-3a4b45d0b68d",
   "metadata": {},
   "outputs": [],
   "source": [
    "b = np.array([1, 2, 3, 4, 5, 6,7 ,8], dtype=np.int32)"
   ]
  },
  {
   "cell_type": "code",
   "execution_count": 24,
   "id": "d9bf4e35-2645-4a79-bda3-ea5bfd8f6642",
   "metadata": {},
   "outputs": [
    {
     "data": {
      "text/plain": [
       "dtype('int32')"
      ]
     },
     "execution_count": 24,
     "metadata": {},
     "output_type": "execute_result"
    }
   ],
   "source": [
    "b.dtype"
   ]
  },
  {
   "cell_type": "markdown",
   "id": "2413caf8-85f3-4bd3-b104-64d84f6070f3",
   "metadata": {},
   "source": [
    "# Dimensions Size and Shapes"
   ]
  },
  {
   "cell_type": "code",
   "execution_count": 25,
   "id": "9197cccc-5a6c-40bd-b499-588c24095f77",
   "metadata": {},
   "outputs": [],
   "source": [
    "c = np.array([\n",
    "    [1, 2, 3],\n",
    "    [2, 4, 3],\n",
    "    [3, 1, 2]\n",
    "])"
   ]
  },
  {
   "cell_type": "code",
   "execution_count": 26,
   "id": "05ba06b6-f945-4e57-89fe-65f8f6e13c76",
   "metadata": {},
   "outputs": [
    {
     "data": {
      "text/plain": [
       "array([[1, 2, 3],\n",
       "       [2, 4, 3],\n",
       "       [3, 1, 2]])"
      ]
     },
     "execution_count": 26,
     "metadata": {},
     "output_type": "execute_result"
    }
   ],
   "source": [
    "c"
   ]
  },
  {
   "cell_type": "code",
   "execution_count": 27,
   "id": "0e4e0e65-9320-478b-be5a-60f031b03e41",
   "metadata": {},
   "outputs": [
    {
     "data": {
      "text/plain": [
       "(3, 3)"
      ]
     },
     "execution_count": 27,
     "metadata": {},
     "output_type": "execute_result"
    }
   ],
   "source": [
    "c.shape"
   ]
  },
  {
   "cell_type": "code",
   "execution_count": 28,
   "id": "e622596f-2ba4-47a0-8001-5d3b0f0540e5",
   "metadata": {},
   "outputs": [
    {
     "data": {
      "text/plain": [
       "2"
      ]
     },
     "execution_count": 28,
     "metadata": {},
     "output_type": "execute_result"
    }
   ],
   "source": [
    "c.ndim"
   ]
  },
  {
   "cell_type": "code",
   "execution_count": 29,
   "id": "9accbbb4-8e77-4787-805d-b3232b5b00e3",
   "metadata": {},
   "outputs": [
    {
     "data": {
      "text/plain": [
       "9"
      ]
     },
     "execution_count": 29,
     "metadata": {},
     "output_type": "execute_result"
    }
   ],
   "source": [
    "c.size"
   ]
  },
  {
   "cell_type": "code",
   "execution_count": 32,
   "id": "fe84bdfd-2c62-4f69-abaf-e32b4c93983c",
   "metadata": {},
   "outputs": [
    {
     "name": "stdout",
     "output_type": "stream",
     "text": [
      "0\n",
      "1\n",
      "2\n",
      "3\n"
     ]
    }
   ],
   "source": [
    "# 标量（0维）\n",
    "scalar = np.array(42)\n",
    "print(scalar.ndim)  # 输出: 0\n",
    "\n",
    "# 一维数组（向量）\n",
    "vector = np.array([1, 2, 3])\n",
    "print(vector.ndim)  # 输出: 1\n",
    "\n",
    "# 二维数组（矩阵）\n",
    "matrix = np.array([[1, 2], [3, 4]])\n",
    "print(matrix.ndim)  # 输出: 2\n",
    "\n",
    "# 三维数组（张量）->矩阵拼矩阵\n",
    "tensor = np.array([\n",
    "    [[1, 2], [3, 4]], \n",
    "    [[5, 6], [7, 8]]\n",
    "])\n",
    "print(tensor.ndim)  # 输出: 3"
   ]
  },
  {
   "cell_type": "markdown",
   "id": "2299e98c-145e-43d9-b639-b0ba71ef5431",
   "metadata": {},
   "source": [
    "# Indexing and Slicing of Matrices"
   ]
  },
  {
   "cell_type": "code",
   "execution_count": 33,
   "id": "6602eef7-4aeb-491b-8194-07d94b5581f8",
   "metadata": {},
   "outputs": [
    {
     "data": {
      "text/plain": [
       "array([2, 4, 3])"
      ]
     },
     "execution_count": 33,
     "metadata": {},
     "output_type": "execute_result"
    }
   ],
   "source": [
    "c[1]"
   ]
  },
  {
   "cell_type": "code",
   "execution_count": 34,
   "id": "c7532a9e-2df0-4f03-8592-6b8e0f2b7919",
   "metadata": {},
   "outputs": [
    {
     "data": {
      "text/plain": [
       "np.int64(3)"
      ]
     },
     "execution_count": 34,
     "metadata": {},
     "output_type": "execute_result"
    }
   ],
   "source": [
    "c[1][2]"
   ]
  },
  {
   "cell_type": "code",
   "execution_count": 35,
   "id": "60ae87e9-a773-40f7-adae-99d598fbb8d3",
   "metadata": {},
   "outputs": [
    {
     "data": {
      "text/plain": [
       "np.int64(2)"
      ]
     },
     "execution_count": 35,
     "metadata": {},
     "output_type": "execute_result"
    }
   ],
   "source": [
    "c[1, 0]"
   ]
  },
  {
   "cell_type": "code",
   "execution_count": 37,
   "id": "522a48f9-95e0-44a7-81c4-1bd884016bd1",
   "metadata": {},
   "outputs": [
    {
     "data": {
      "text/plain": [
       "array([[3, 4, 2],\n",
       "       [2, 1, 3]])"
      ]
     },
     "execution_count": 37,
     "metadata": {},
     "output_type": "execute_result"
    }
   ],
   "source": [
    "c[1:, ::-1]"
   ]
  },
  {
   "cell_type": "code",
   "execution_count": null,
   "id": "0e8e2888-3224-43fb-9ba6-7e22cd2d6df5",
   "metadata": {},
   "outputs": [],
   "source": []
  }
 ],
 "metadata": {
  "kernelspec": {
   "display_name": "Python 3 (ipykernel)",
   "language": "python",
   "name": "python3"
  },
  "language_info": {
   "codemirror_mode": {
    "name": "ipython",
    "version": 3
   },
   "file_extension": ".py",
   "mimetype": "text/x-python",
   "name": "python",
   "nbconvert_exporter": "python",
   "pygments_lexer": "ipython3",
   "version": "3.10.0"
  }
 },
 "nbformat": 4,
 "nbformat_minor": 5
}
