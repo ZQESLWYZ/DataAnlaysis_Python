{
 "cells": [
  {
   "cell_type": "code",
   "execution_count": 2,
   "id": "c1ba02c6-4f09-42ae-ac53-50161b0bd49b",
   "metadata": {},
   "outputs": [],
   "source": [
    "import sys\n",
    "import numpy as np"
   ]
  },
  {
   "cell_type": "markdown",
   "id": "5e32a71e-656b-4468-b0a4-160f7a073103",
   "metadata": {},
   "source": [
    "# Basic Numpy Arrays"
   ]
  },
  {
   "cell_type": "code",
   "execution_count": 3,
   "id": "5bf645eb-fba6-41cf-8bbd-cc99df10fd71",
   "metadata": {},
   "outputs": [],
   "source": [
    "a = np.array([1, 2, 3, 4])"
   ]
  },
  {
   "cell_type": "code",
   "execution_count": 4,
   "id": "10f7e1dc-0b23-4457-9f7f-8c46a1a2d978",
   "metadata": {},
   "outputs": [
    {
     "data": {
      "text/plain": [
       "(np.int64(1), np.int64(2))"
      ]
     },
     "execution_count": 4,
     "metadata": {},
     "output_type": "execute_result"
    }
   ],
   "source": [
    "a[0], a[1]"
   ]
  },
  {
   "cell_type": "code",
   "execution_count": 5,
   "id": "8771b66e-7819-446a-9f6f-9f55d8c44a6d",
   "metadata": {},
   "outputs": [
    {
     "data": {
      "text/plain": [
       "array([1, 2])"
      ]
     },
     "execution_count": 5,
     "metadata": {},
     "output_type": "execute_result"
    }
   ],
   "source": [
    "a[0:2]"
   ]
  },
  {
   "cell_type": "code",
   "execution_count": 6,
   "id": "858eac9d-6baf-4f39-be75-df0e2bc6bcdf",
   "metadata": {},
   "outputs": [
    {
     "data": {
      "text/plain": [
       "array([4, 3, 2, 1])"
      ]
     },
     "execution_count": 6,
     "metadata": {},
     "output_type": "execute_result"
    }
   ],
   "source": [
    "a[::-1]"
   ]
  },
  {
   "cell_type": "code",
   "execution_count": 7,
   "id": "e57daff8-776a-4992-8ab3-b45cdf964abe",
   "metadata": {},
   "outputs": [
    {
     "data": {
      "text/plain": [
       "array([2, 3, 4])"
      ]
     },
     "execution_count": 7,
     "metadata": {},
     "output_type": "execute_result"
    }
   ],
   "source": [
    "a[1:]"
   ]
  },
  {
   "cell_type": "code",
   "execution_count": 8,
   "id": "f7c9383a-a869-40e6-9243-ff2135676a3d",
   "metadata": {},
   "outputs": [
    {
     "data": {
      "text/plain": [
       "array([2, 4])"
      ]
     },
     "execution_count": 8,
     "metadata": {},
     "output_type": "execute_result"
    }
   ],
   "source": [
    "a[1::2] # 间隔2"
   ]
  },
  {
   "cell_type": "code",
   "execution_count": 9,
   "id": "e30f4e83-15bf-413e-8e06-1e5326700c6d",
   "metadata": {},
   "outputs": [
    {
     "name": "stdout",
     "output_type": "stream",
     "text": [
      "[2 3 4 5 6]\n",
      "[0 1 2 3 4]\n",
      "[5 6 7 8 9]\n",
      "[0 2 4 6 8]\n",
      "[1 3 5 7 9]\n",
      "[9 8 7 6 5 4 3 2 1 0]\n",
      "[7 8 9]\n",
      "[0 1 2 3 4 5 6]\n",
      "[5 4 3]\n"
     ]
    }
   ],
   "source": [
    "arr = np.array([0, 1, 2, 3, 4, 5, 6, 7, 8, 9])\n",
    "\n",
    "print(arr[2:7])    # [2 3 4 5 6]  索引 2 到 6 (7 不包含)\n",
    "print(arr[:5])     # [0 1 2 3 4]  开始到索引 4\n",
    "print(arr[5:])     # [5 6 7 8 9]  索引 5 到结束\n",
    "print(arr[::2])    # [0 2 4 6 8]  步长为 2\n",
    "print(arr[1::2])   # [1 3 5 7 9]  索引 1 开始，步长 2\n",
    "print(arr[::-1])   # [9 8 ... 0]  逆序\n",
    "print(arr[-3:])    # [7 8 9]      最后三个元素\n",
    "print(arr[:-3])    # [0 1 2 3 4 5 6] 除最后三个外\n",
    "print(arr[5:2:-1]) # [5 4 3]      逆序步长"
   ]
  },
  {
   "cell_type": "code",
   "execution_count": 10,
   "id": "11cbbd22-04bd-4fc8-8e2e-41d3e3bba0bf",
   "metadata": {},
   "outputs": [
    {
     "name": "stdout",
     "output_type": "stream",
     "text": [
      "[1 2 3 4]\n",
      "[ 2  6 10]\n",
      "[[2 3]\n",
      " [6 7]]\n",
      "[[ 1  3]\n",
      " [ 5  7]\n",
      " [ 9 11]]\n",
      "[[ 9 11]\n",
      " [ 5  7]\n",
      " [ 1  3]]\n"
     ]
    }
   ],
   "source": [
    "arr2d = np.array([[1, 2, 3, 4],\n",
    "                  [5, 6, 7, 8],\n",
    "                  [9, 10, 11, 12]])\n",
    "\n",
    "# 选择第 0 行\n",
    "print(arr2d[0, :])   # [1 2 3 4]  或 arr2d[0]\n",
    "# 选择第 1 列\n",
    "print(arr2d[:, 1])   # [2 6 10]\n",
    "# 选择子区域：前两行，第 1 到 3 列（索引 1 和 2）\n",
    "print(arr2d[:2, 1:3])\n",
    "# [[2 3]\n",
    "#  [6 7]]\n",
    "# 步长：所有行，第 0 和第 2 列（步长 2）\n",
    "print(arr2d[:, ::2])\n",
    "# [[ 1  3]\n",
    "#  [ 5  7]\n",
    "#  [ 9 11]]\n",
    "# 同时使用步长和逆序：行逆序，列步长 2\n",
    "print(arr2d[::-1, ::2])\n",
    "# [[ 9 11]\n",
    "#  [ 5  7]\n",
    "#  [ 1  3]]"
   ]
  },
  {
   "cell_type": "markdown",
   "id": "f1f4335e-e442-44b1-827f-40cfd2dcb83c",
   "metadata": {},
   "source": [
    "# Array Type"
   ]
  },
  {
   "cell_type": "code",
   "execution_count": 11,
   "id": "3039d2cd-5786-4740-a946-0c84848810f0",
   "metadata": {},
   "outputs": [
    {
     "data": {
      "text/plain": [
       "array([1, 2, 3, 4])"
      ]
     },
     "execution_count": 11,
     "metadata": {},
     "output_type": "execute_result"
    }
   ],
   "source": [
    "a"
   ]
  },
  {
   "cell_type": "code",
   "execution_count": 12,
   "id": "de18cbd9-4aa7-4cc8-bf47-e83f418694d1",
   "metadata": {},
   "outputs": [
    {
     "data": {
      "text/plain": [
       "dtype('int64')"
      ]
     },
     "execution_count": 12,
     "metadata": {},
     "output_type": "execute_result"
    }
   ],
   "source": [
    "a.dtype"
   ]
  },
  {
   "cell_type": "code",
   "execution_count": 13,
   "id": "766f0478-bf55-498d-8cef-3a4b45d0b68d",
   "metadata": {},
   "outputs": [],
   "source": [
    "b = np.array([1, 2, 3, 4, 5, 6,7 ,8], dtype=np.int32)"
   ]
  },
  {
   "cell_type": "code",
   "execution_count": 14,
   "id": "d9bf4e35-2645-4a79-bda3-ea5bfd8f6642",
   "metadata": {},
   "outputs": [
    {
     "data": {
      "text/plain": [
       "dtype('int32')"
      ]
     },
     "execution_count": 14,
     "metadata": {},
     "output_type": "execute_result"
    }
   ],
   "source": [
    "b.dtype"
   ]
  },
  {
   "cell_type": "markdown",
   "id": "2413caf8-85f3-4bd3-b104-64d84f6070f3",
   "metadata": {},
   "source": [
    "# Dimensions Size and Shapes"
   ]
  },
  {
   "cell_type": "code",
   "execution_count": 15,
   "id": "9197cccc-5a6c-40bd-b499-588c24095f77",
   "metadata": {},
   "outputs": [],
   "source": [
    "c = np.array([\n",
    "    [1, 2, 3],\n",
    "    [2, 4, 3],\n",
    "    [3, 1, 2]\n",
    "])"
   ]
  },
  {
   "cell_type": "code",
   "execution_count": 16,
   "id": "05ba06b6-f945-4e57-89fe-65f8f6e13c76",
   "metadata": {},
   "outputs": [
    {
     "data": {
      "text/plain": [
       "array([[1, 2, 3],\n",
       "       [2, 4, 3],\n",
       "       [3, 1, 2]])"
      ]
     },
     "execution_count": 16,
     "metadata": {},
     "output_type": "execute_result"
    }
   ],
   "source": [
    "c"
   ]
  },
  {
   "cell_type": "code",
   "execution_count": 17,
   "id": "0e4e0e65-9320-478b-be5a-60f031b03e41",
   "metadata": {},
   "outputs": [
    {
     "data": {
      "text/plain": [
       "(3, 3)"
      ]
     },
     "execution_count": 17,
     "metadata": {},
     "output_type": "execute_result"
    }
   ],
   "source": [
    "c.shape"
   ]
  },
  {
   "cell_type": "code",
   "execution_count": 18,
   "id": "e622596f-2ba4-47a0-8001-5d3b0f0540e5",
   "metadata": {},
   "outputs": [
    {
     "data": {
      "text/plain": [
       "2"
      ]
     },
     "execution_count": 18,
     "metadata": {},
     "output_type": "execute_result"
    }
   ],
   "source": [
    "c.ndim"
   ]
  },
  {
   "cell_type": "code",
   "execution_count": 19,
   "id": "9accbbb4-8e77-4787-805d-b3232b5b00e3",
   "metadata": {},
   "outputs": [
    {
     "data": {
      "text/plain": [
       "9"
      ]
     },
     "execution_count": 19,
     "metadata": {},
     "output_type": "execute_result"
    }
   ],
   "source": [
    "c.size"
   ]
  },
  {
   "cell_type": "code",
   "execution_count": 20,
   "id": "fe84bdfd-2c62-4f69-abaf-e32b4c93983c",
   "metadata": {},
   "outputs": [
    {
     "name": "stdout",
     "output_type": "stream",
     "text": [
      "0\n",
      "1\n",
      "2\n",
      "3\n"
     ]
    }
   ],
   "source": [
    "# 标量（0维）\n",
    "scalar = np.array(42)\n",
    "print(scalar.ndim)  # 输出: 0\n",
    "\n",
    "# 一维数组（向量）\n",
    "vector = np.array([1, 2, 3])\n",
    "print(vector.ndim)  # 输出: 1\n",
    "\n",
    "# 二维数组（矩阵）\n",
    "matrix = np.array([[1, 2], [3, 4]])\n",
    "print(matrix.ndim)  # 输出: 2\n",
    "\n",
    "# 三维数组（张量）->矩阵拼矩阵\n",
    "tensor = np.array([\n",
    "    [[1, 2], [3, 4]], \n",
    "    [[5, 6], [7, 8]]\n",
    "])\n",
    "print(tensor.ndim)  # 输出: 3"
   ]
  },
  {
   "cell_type": "markdown",
   "id": "2299e98c-145e-43d9-b639-b0ba71ef5431",
   "metadata": {},
   "source": [
    "# Indexing and Slicing of Matrices"
   ]
  },
  {
   "cell_type": "code",
   "execution_count": 21,
   "id": "6602eef7-4aeb-491b-8194-07d94b5581f8",
   "metadata": {},
   "outputs": [
    {
     "data": {
      "text/plain": [
       "array([2, 4, 3])"
      ]
     },
     "execution_count": 21,
     "metadata": {},
     "output_type": "execute_result"
    }
   ],
   "source": [
    "c[1]"
   ]
  },
  {
   "cell_type": "code",
   "execution_count": 22,
   "id": "c7532a9e-2df0-4f03-8592-6b8e0f2b7919",
   "metadata": {},
   "outputs": [
    {
     "data": {
      "text/plain": [
       "np.int64(3)"
      ]
     },
     "execution_count": 22,
     "metadata": {},
     "output_type": "execute_result"
    }
   ],
   "source": [
    "c[1][2]"
   ]
  },
  {
   "cell_type": "code",
   "execution_count": 23,
   "id": "60ae87e9-a773-40f7-adae-99d598fbb8d3",
   "metadata": {},
   "outputs": [
    {
     "data": {
      "text/plain": [
       "np.int64(2)"
      ]
     },
     "execution_count": 23,
     "metadata": {},
     "output_type": "execute_result"
    }
   ],
   "source": [
    "c[1, 0]"
   ]
  },
  {
   "cell_type": "code",
   "execution_count": 24,
   "id": "522a48f9-95e0-44a7-81c4-1bd884016bd1",
   "metadata": {},
   "outputs": [
    {
     "data": {
      "text/plain": [
       "array([[3, 4, 2],\n",
       "       [2, 1, 3]])"
      ]
     },
     "execution_count": 24,
     "metadata": {},
     "output_type": "execute_result"
    }
   ],
   "source": [
    "c[1:, ::-1]"
   ]
  },
  {
   "cell_type": "code",
   "execution_count": 25,
   "id": "0e8e2888-3224-43fb-9ba6-7e22cd2d6df5",
   "metadata": {},
   "outputs": [
    {
     "data": {
      "text/plain": [
       "array([2, 4, 3])"
      ]
     },
     "execution_count": 25,
     "metadata": {},
     "output_type": "execute_result"
    }
   ],
   "source": [
    "c[1]"
   ]
  },
  {
   "cell_type": "code",
   "execution_count": 26,
   "id": "4c30bca2-7287-418d-8f97-96eb8070e1e2",
   "metadata": {},
   "outputs": [],
   "source": [
    "c[1] = np.array([1, 2, 3])"
   ]
  },
  {
   "cell_type": "code",
   "execution_count": 27,
   "id": "0f7f3e3b-04af-453a-9063-3ca599e8c7b2",
   "metadata": {},
   "outputs": [
    {
     "data": {
      "text/plain": [
       "array([[1, 2, 3],\n",
       "       [1, 2, 3],\n",
       "       [3, 1, 2]])"
      ]
     },
     "execution_count": 27,
     "metadata": {},
     "output_type": "execute_result"
    }
   ],
   "source": [
    "c"
   ]
  },
  {
   "cell_type": "markdown",
   "id": "d6e756b8-03cd-4e5b-8a81-c3c57b79a608",
   "metadata": {},
   "source": [
    "# Summary Statistics"
   ]
  },
  {
   "cell_type": "code",
   "execution_count": 29,
   "id": "591e8dac-9b52-4461-a558-7be0f3f63b22",
   "metadata": {},
   "outputs": [],
   "source": [
    "a = np.array([1, 2, 3, 4], dtype=np.float64)"
   ]
  },
  {
   "cell_type": "code",
   "execution_count": 30,
   "id": "2ce5a9e8-1329-4af0-b1d8-cb427363affc",
   "metadata": {},
   "outputs": [
    {
     "data": {
      "text/plain": [
       "np.float64(10.0)"
      ]
     },
     "execution_count": 30,
     "metadata": {},
     "output_type": "execute_result"
    }
   ],
   "source": [
    "a.sum()"
   ]
  },
  {
   "cell_type": "code",
   "execution_count": 31,
   "id": "be06204d-d0ea-43ce-9f41-2fd556dc2763",
   "metadata": {},
   "outputs": [
    {
     "data": {
      "text/plain": [
       "np.float64(2.5)"
      ]
     },
     "execution_count": 31,
     "metadata": {},
     "output_type": "execute_result"
    }
   ],
   "source": [
    "a.mean()"
   ]
  },
  {
   "cell_type": "code",
   "execution_count": 32,
   "id": "f512c329-d6ac-4658-8095-80650e8716e9",
   "metadata": {},
   "outputs": [
    {
     "data": {
      "text/plain": [
       "np.float64(1.118033988749895)"
      ]
     },
     "execution_count": 32,
     "metadata": {},
     "output_type": "execute_result"
    }
   ],
   "source": [
    "a.std()"
   ]
  },
  {
   "cell_type": "code",
   "execution_count": 34,
   "id": "477cfcc3-57e3-43d8-8f26-bf2b2c0f3424",
   "metadata": {},
   "outputs": [
    {
     "data": {
      "text/plain": [
       "np.float64(1.25)"
      ]
     },
     "execution_count": 34,
     "metadata": {},
     "output_type": "execute_result"
    }
   ],
   "source": [
    "a.var() # 方差"
   ]
  },
  {
   "cell_type": "code",
   "execution_count": 36,
   "id": "84c9fab6-5be9-41da-b70e-dfc02b2131e8",
   "metadata": {},
   "outputs": [],
   "source": [
    "A = np.array([\n",
    "    [1, 2, 3, 4],\n",
    "    [2, 3, 4, 5],\n",
    "    [6, 4, 3, 7]]\n",
    ")"
   ]
  },
  {
   "cell_type": "code",
   "execution_count": 37,
   "id": "46216667-1868-44b0-8977-c4a3f619d34d",
   "metadata": {},
   "outputs": [
    {
     "data": {
      "text/plain": [
       "np.int64(44)"
      ]
     },
     "execution_count": 37,
     "metadata": {},
     "output_type": "execute_result"
    }
   ],
   "source": [
    "A.sum()"
   ]
  },
  {
   "cell_type": "code",
   "execution_count": 38,
   "id": "842955a0-da26-4c45-955f-fe10b2f1f7e9",
   "metadata": {},
   "outputs": [
    {
     "data": {
      "text/plain": [
       "np.float64(3.6666666666666665)"
      ]
     },
     "execution_count": 38,
     "metadata": {},
     "output_type": "execute_result"
    }
   ],
   "source": [
    "A.mean()"
   ]
  },
  {
   "cell_type": "code",
   "execution_count": 39,
   "id": "d6a52c3b-8998-4b24-869b-3e4a3a97d5b2",
   "metadata": {},
   "outputs": [
    {
     "data": {
      "text/plain": [
       "np.float64(1.6499158227686108)"
      ]
     },
     "execution_count": 39,
     "metadata": {},
     "output_type": "execute_result"
    }
   ],
   "source": [
    "A.std()"
   ]
  },
  {
   "cell_type": "code",
   "execution_count": 40,
   "id": "afa8508c-8b30-4847-be20-091f33007fc2",
   "metadata": {},
   "outputs": [
    {
     "data": {
      "text/plain": [
       "np.float64(2.722222222222222)"
      ]
     },
     "execution_count": 40,
     "metadata": {},
     "output_type": "execute_result"
    }
   ],
   "source": [
    "A.var()"
   ]
  },
  {
   "cell_type": "code",
   "execution_count": 41,
   "id": "7488285d-f2a0-45cf-9736-7c6a996ef588",
   "metadata": {},
   "outputs": [
    {
     "data": {
      "text/plain": [
       "array([ 9,  9, 10, 16])"
      ]
     },
     "execution_count": 41,
     "metadata": {},
     "output_type": "execute_result"
    }
   ],
   "source": [
    "A.sum(axis=0)"
   ]
  },
  {
   "cell_type": "code",
   "execution_count": 42,
   "id": "94a0c25e-aed2-436a-89f4-6d450da12dbf",
   "metadata": {},
   "outputs": [
    {
     "data": {
      "text/plain": [
       "array([10, 14, 20])"
      ]
     },
     "execution_count": 42,
     "metadata": {},
     "output_type": "execute_result"
    }
   ],
   "source": [
    "A.sum(axis=1)"
   ]
  },
  {
   "cell_type": "code",
   "execution_count": 43,
   "id": "cd08d929-4c48-4dd4-a0a5-6b94544f0247",
   "metadata": {},
   "outputs": [
    {
     "data": {
      "text/plain": [
       "array([3.        , 3.        , 3.33333333, 5.33333333])"
      ]
     },
     "execution_count": 43,
     "metadata": {},
     "output_type": "execute_result"
    }
   ],
   "source": [
    "A.mean(axis=0)"
   ]
  },
  {
   "cell_type": "code",
   "execution_count": 44,
   "id": "6b486660-5a55-424d-b6a8-9bcaf5f38c8b",
   "metadata": {},
   "outputs": [
    {
     "data": {
      "text/plain": [
       "array([2.5, 3.5, 5. ])"
      ]
     },
     "execution_count": 44,
     "metadata": {},
     "output_type": "execute_result"
    }
   ],
   "source": [
    "A.mean(axis=1)"
   ]
  },
  {
   "cell_type": "code",
   "execution_count": 45,
   "id": "20e3137a-bd4d-4f5e-b8b8-1a43a2a34c74",
   "metadata": {},
   "outputs": [
    {
     "data": {
      "text/plain": [
       "array([2.1602469 , 0.81649658, 0.47140452, 1.24721913])"
      ]
     },
     "execution_count": 45,
     "metadata": {},
     "output_type": "execute_result"
    }
   ],
   "source": [
    "A.std(axis=0)"
   ]
  },
  {
   "cell_type": "code",
   "execution_count": 46,
   "id": "d5ad3ce3-ccd6-472f-b7b3-5211ae605842",
   "metadata": {},
   "outputs": [
    {
     "data": {
      "text/plain": [
       "array([1.11803399, 1.11803399, 1.58113883])"
      ]
     },
     "execution_count": 46,
     "metadata": {},
     "output_type": "execute_result"
    }
   ],
   "source": [
    "A.std(axis=1)"
   ]
  },
  {
   "cell_type": "markdown",
   "id": "4d06d2c3-081c-436c-9f4c-dce4f5dbd240",
   "metadata": {},
   "source": [
    "# Broadcasting and Vectorized Operations"
   ]
  },
  {
   "cell_type": "code",
   "execution_count": 47,
   "id": "ca6655db-a541-409c-b81e-e81b66fd05d4",
   "metadata": {},
   "outputs": [],
   "source": [
    "a = np.arange(4)"
   ]
  },
  {
   "cell_type": "code",
   "execution_count": 48,
   "id": "c0041303-e27b-40c0-95da-6621d49eefde",
   "metadata": {},
   "outputs": [
    {
     "data": {
      "text/plain": [
       "array([0, 1, 2, 3])"
      ]
     },
     "execution_count": 48,
     "metadata": {},
     "output_type": "execute_result"
    }
   ],
   "source": [
    "a"
   ]
  },
  {
   "cell_type": "code",
   "execution_count": 49,
   "id": "cbc0e3a3-872e-41f4-9598-c2faa35bcb4d",
   "metadata": {},
   "outputs": [
    {
     "data": {
      "text/plain": [
       "array([10, 11, 12, 13])"
      ]
     },
     "execution_count": 49,
     "metadata": {},
     "output_type": "execute_result"
    }
   ],
   "source": [
    "a + 10"
   ]
  },
  {
   "cell_type": "code",
   "execution_count": 50,
   "id": "6a28f8a4-87d6-4a73-b1f7-09f8916bda3a",
   "metadata": {},
   "outputs": [
    {
     "data": {
      "text/plain": [
       "array([0, 1, 2, 3])"
      ]
     },
     "execution_count": 50,
     "metadata": {},
     "output_type": "execute_result"
    }
   ],
   "source": [
    "a"
   ]
  },
  {
   "cell_type": "code",
   "execution_count": 51,
   "id": "b78919bd-e008-4f28-b098-c2cb477a493b",
   "metadata": {},
   "outputs": [
    {
     "data": {
      "text/plain": [
       "array([ 0, 10, 20, 30])"
      ]
     },
     "execution_count": 51,
     "metadata": {},
     "output_type": "execute_result"
    }
   ],
   "source": [
    "a * 10"
   ]
  },
  {
   "cell_type": "code",
   "execution_count": 52,
   "id": "788281e5-e7e2-4e99-b6a4-72869508815c",
   "metadata": {},
   "outputs": [
    {
     "data": {
      "text/plain": [
       "array([0, 1, 2, 3])"
      ]
     },
     "execution_count": 52,
     "metadata": {},
     "output_type": "execute_result"
    }
   ],
   "source": [
    "a"
   ]
  },
  {
   "cell_type": "code",
   "execution_count": 53,
   "id": "6a0aeda7-6f4e-4635-a009-4b6c0199c0d6",
   "metadata": {},
   "outputs": [],
   "source": [
    "a += 100"
   ]
  },
  {
   "cell_type": "code",
   "execution_count": 54,
   "id": "aa249088-e4ed-49a6-b8d8-f465e98d90c2",
   "metadata": {},
   "outputs": [
    {
     "data": {
      "text/plain": [
       "array([100, 101, 102, 103])"
      ]
     },
     "execution_count": 54,
     "metadata": {},
     "output_type": "execute_result"
    }
   ],
   "source": [
    "a"
   ]
  },
  {
   "cell_type": "code",
   "execution_count": 55,
   "id": "5fd4e117-4e79-4623-b9a3-6cf3c8d3c9ed",
   "metadata": {},
   "outputs": [],
   "source": [
    "l = [1, 2, 3, 4]"
   ]
  },
  {
   "cell_type": "code",
   "execution_count": 57,
   "id": "f263f255-61f7-46a2-97b3-46ccd95be45e",
   "metadata": {},
   "outputs": [
    {
     "data": {
      "text/plain": [
       "[100, 200, 300, 400]"
      ]
     },
     "execution_count": 57,
     "metadata": {},
     "output_type": "execute_result"
    }
   ],
   "source": [
    "[ m * 100 for m in l]"
   ]
  },
  {
   "cell_type": "code",
   "execution_count": 58,
   "id": "4b8cb593-e832-432c-b691-93eaee89a558",
   "metadata": {},
   "outputs": [],
   "source": [
    "b = np.array([10, 20, 20, 50])"
   ]
  },
  {
   "cell_type": "code",
   "execution_count": 59,
   "id": "67c5ff2f-53d7-40bf-9908-9a6f81ce6b3e",
   "metadata": {},
   "outputs": [
    {
     "data": {
      "text/plain": [
       "array([110, 121, 122, 153])"
      ]
     },
     "execution_count": 59,
     "metadata": {},
     "output_type": "execute_result"
    }
   ],
   "source": [
    "a + b"
   ]
  },
  {
   "cell_type": "code",
   "execution_count": 60,
   "id": "b3e4c38d-2e35-4f7a-acfd-c8b0d3075757",
   "metadata": {},
   "outputs": [
    {
     "data": {
      "text/plain": [
       "array([1000, 2020, 2040, 5150])"
      ]
     },
     "execution_count": 60,
     "metadata": {},
     "output_type": "execute_result"
    }
   ],
   "source": [
    "a * b"
   ]
  },
  {
   "cell_type": "code",
   "execution_count": 71,
   "id": "86812a3d-e46d-4fed-a084-bc67169c1c7c",
   "metadata": {},
   "outputs": [],
   "source": [
    "c = np.array([10, 20, 20])"
   ]
  },
  {
   "cell_type": "markdown",
   "id": "16a1bab6-3617-41f5-abb1-5122a30746c7",
   "metadata": {},
   "source": [
    "### a * c\n",
    "```python\n",
    "---------------------------------------------------------------------------\n",
    "ValueError                                Traceback (most recent call last)\n",
    "Cell In[63], line 1\n",
    "----> 1 a * c\n",
    "\n",
    "ValueError: operands could not be broadcast together with shapes (4,) (3,) \n",
    "```"
   ]
  },
  {
   "cell_type": "code",
   "execution_count": 72,
   "id": "3a4e9125-5017-4294-ba1b-93f7b2f8573d",
   "metadata": {},
   "outputs": [],
   "source": [
    "d = np.array([\n",
    "    [1, 2, 3],\n",
    "    [2, 4, 3],\n",
    "    [3, 1, 2]\n",
    "])"
   ]
  },
  {
   "cell_type": "code",
   "execution_count": 73,
   "id": "a18a5cf7-d2c0-4a70-a763-88908045f92b",
   "metadata": {},
   "outputs": [
    {
     "data": {
      "text/plain": [
       "array([[10, 40, 60],\n",
       "       [20, 80, 60],\n",
       "       [30, 20, 40]])"
      ]
     },
     "execution_count": 73,
     "metadata": {},
     "output_type": "execute_result"
    }
   ],
   "source": [
    "d * c"
   ]
  },
  {
   "cell_type": "markdown",
   "id": "f1582a94-0218-4ad6-af23-b8081b17959e",
   "metadata": {},
   "source": [
    "# **Boolean arrays**"
   ]
  },
  {
   "cell_type": "code",
   "execution_count": 74,
   "id": "d89bebad-65dd-4f17-bcf1-40374bc4c002",
   "metadata": {},
   "outputs": [],
   "source": [
    "a = np.arange(4)"
   ]
  },
  {
   "cell_type": "code",
   "execution_count": 75,
   "id": "5d1815ab-cc9f-4570-85ec-b96abbc9e3be",
   "metadata": {},
   "outputs": [
    {
     "data": {
      "text/plain": [
       "array([0, 1, 2, 3])"
      ]
     },
     "execution_count": 75,
     "metadata": {},
     "output_type": "execute_result"
    }
   ],
   "source": [
    "a"
   ]
  },
  {
   "cell_type": "code",
   "execution_count": 76,
   "id": "cd06facc-6897-407f-9adf-0129d9f999d9",
   "metadata": {},
   "outputs": [
    {
     "data": {
      "text/plain": [
       "array([False, False,  True,  True])"
      ]
     },
     "execution_count": 76,
     "metadata": {},
     "output_type": "execute_result"
    }
   ],
   "source": [
    "a > 1"
   ]
  },
  {
   "cell_type": "code",
   "execution_count": 77,
   "id": "cfea4080-0801-41a8-ada1-b3b22fb05e57",
   "metadata": {},
   "outputs": [
    {
     "data": {
      "text/plain": [
       "array([ True,  True,  True, False])"
      ]
     },
     "execution_count": 77,
     "metadata": {},
     "output_type": "execute_result"
    }
   ],
   "source": [
    "a < 3"
   ]
  },
  {
   "cell_type": "code",
   "execution_count": 78,
   "id": "ec6143a6-486b-4d91-b878-29d59ed59d56",
   "metadata": {},
   "outputs": [
    {
     "data": {
      "text/plain": [
       "array([2, 3])"
      ]
     },
     "execution_count": 78,
     "metadata": {},
     "output_type": "execute_result"
    }
   ],
   "source": [
    "a[a>1]"
   ]
  },
  {
   "cell_type": "code",
   "execution_count": 79,
   "id": "8a839eb9-1482-46f6-821b-32b5bb96fb28",
   "metadata": {},
   "outputs": [],
   "source": [
    "b = np.array([\n",
    "    [1, 2, 3],\n",
    "    [2, 4, 3],\n",
    "    [3, 1, 2]\n",
    "])"
   ]
  },
  {
   "cell_type": "code",
   "execution_count": 80,
   "id": "6f7b2a44-5616-4951-a405-fca527516b10",
   "metadata": {},
   "outputs": [
    {
     "data": {
      "text/plain": [
       "array([[ True, False, False],\n",
       "       [False, False, False],\n",
       "       [False,  True, False]])"
      ]
     },
     "execution_count": 80,
     "metadata": {},
     "output_type": "execute_result"
    }
   ],
   "source": [
    "b == 1"
   ]
  },
  {
   "cell_type": "code",
   "execution_count": 81,
   "id": "8d457e2a-cc7c-4986-97ba-6adee50d973b",
   "metadata": {},
   "outputs": [
    {
     "data": {
      "text/plain": [
       "array([1, 1])"
      ]
     },
     "execution_count": 81,
     "metadata": {},
     "output_type": "execute_result"
    }
   ],
   "source": [
    "b[b == 1]"
   ]
  },
  {
   "cell_type": "code",
   "execution_count": 82,
   "id": "0f92e84b-2aef-4bd0-a4fd-7b2fe55b3096",
   "metadata": {},
   "outputs": [
    {
     "data": {
      "text/plain": [
       "array([1, 2, 2, 1, 2])"
      ]
     },
     "execution_count": 82,
     "metadata": {},
     "output_type": "execute_result"
    }
   ],
   "source": [
    "b[b < b.mean()]"
   ]
  },
  {
   "cell_type": "code",
   "execution_count": 83,
   "id": "88659bd9-d656-43f8-b562-fce27628e349",
   "metadata": {},
   "outputs": [
    {
     "data": {
      "text/plain": [
       "array([3, 4, 3, 3])"
      ]
     },
     "execution_count": 83,
     "metadata": {},
     "output_type": "execute_result"
    }
   ],
   "source": [
    "b[~(b < b.mean())]"
   ]
  },
  {
   "cell_type": "code",
   "execution_count": 84,
   "id": "f1d66a75-71fc-4479-ad78-4be611e523ed",
   "metadata": {},
   "outputs": [
    {
     "data": {
      "text/plain": [
       "9"
      ]
     },
     "execution_count": 84,
     "metadata": {},
     "output_type": "execute_result"
    }
   ],
   "source": [
    "b.size"
   ]
  },
  {
   "cell_type": "code",
   "execution_count": 85,
   "id": "a5673497-a6c2-4fac-95b9-48d614d03bb1",
   "metadata": {},
   "outputs": [
    {
     "data": {
      "text/plain": [
       "array([1, 2, 3, 2, 4, 3, 3, 1, 2])"
      ]
     },
     "execution_count": 85,
     "metadata": {},
     "output_type": "execute_result"
    }
   ],
   "source": [
    "b[(b<3) | b > b.std()]"
   ]
  },
  {
   "cell_type": "code",
   "execution_count": 86,
   "id": "5063d81b-f3cf-4d04-b3f0-1fb49a4b01c1",
   "metadata": {},
   "outputs": [
    {
     "data": {
      "text/plain": [
       "array([1, 1])"
      ]
     },
     "execution_count": 86,
     "metadata": {},
     "output_type": "execute_result"
    }
   ],
   "source": [
    "b[(b<3) & b > b.std()]"
   ]
  },
  {
   "cell_type": "markdown",
   "id": "5a8cbea3-77e4-4923-8c12-cb560f7fdc27",
   "metadata": {},
   "source": [
    "# Linear Algebra"
   ]
  },
  {
   "cell_type": "code",
   "execution_count": 91,
   "id": "eaa3bdf9-0f26-4e8b-9b38-e4b32c5e2bc9",
   "metadata": {},
   "outputs": [],
   "source": [
    "A = np.random.rand(3, 3)"
   ]
  },
  {
   "cell_type": "code",
   "execution_count": 92,
   "id": "7af627b9-0d99-4c41-9540-1dbb62c26feb",
   "metadata": {},
   "outputs": [],
   "source": [
    "B = np.random.rand(3, 2)"
   ]
  },
  {
   "cell_type": "markdown",
   "id": "66508829-8bb3-4a01-ab13-5d0a3631f785",
   "metadata": {},
   "source": [
    "A * B\n",
    "```python\n",
    "---------------------------------------------------------------------------\n",
    "ValueError                                Traceback (most recent call last)\n",
    "Cell In[93], line 1\n",
    "----> 1 A * B\n",
    "\n",
    "ValueError: operands could not be broadcast together with shapes (3,3) (3,2) \n",
    "```"
   ]
  },
  {
   "cell_type": "code",
   "execution_count": 95,
   "id": "d6f21e87-706d-4eb2-b57c-44d439394ff0",
   "metadata": {},
   "outputs": [
    {
     "data": {
      "text/plain": [
       "array([[2.25952055, 1.13314496],\n",
       "       [0.90113105, 0.48779915],\n",
       "       [1.69169534, 0.78700228]])"
      ]
     },
     "execution_count": 95,
     "metadata": {},
     "output_type": "execute_result"
    }
   ],
   "source": [
    "A.dot(B)"
   ]
  },
  {
   "cell_type": "code",
   "execution_count": 96,
   "id": "821f5c31-519a-4c2f-afb6-bd855b263089",
   "metadata": {},
   "outputs": [
    {
     "data": {
      "text/plain": [
       "array([[2.25952055, 1.13314496],\n",
       "       [0.90113105, 0.48779915],\n",
       "       [1.69169534, 0.78700228]])"
      ]
     },
     "execution_count": 96,
     "metadata": {},
     "output_type": "execute_result"
    }
   ],
   "source": [
    "A @ B"
   ]
  },
  {
   "cell_type": "code",
   "execution_count": 97,
   "id": "ecf240e5-c13a-4568-ac2c-92ada3c9a0b4",
   "metadata": {},
   "outputs": [
    {
     "data": {
      "text/plain": [
       "array([[0.71139561, 0.33796514, 0.34358231],\n",
       "       [0.93793307, 0.33346242, 0.74012618],\n",
       "       [0.77121804, 0.29427482, 0.74520578]])"
      ]
     },
     "execution_count": 97,
     "metadata": {},
     "output_type": "execute_result"
    }
   ],
   "source": [
    "A.T"
   ]
  },
  {
   "cell_type": "code",
   "execution_count": 98,
   "id": "628d33e7-0e73-4120-a2e0-4fa8c33b6502",
   "metadata": {},
   "outputs": [
    {
     "data": {
      "text/plain": [
       "array([[0.95019904, 0.99245661, 0.84631742],\n",
       "       [0.86015269, 0.07333643, 0.58667126]])"
      ]
     },
     "execution_count": 98,
     "metadata": {},
     "output_type": "execute_result"
    }
   ],
   "source": [
    "B.T"
   ]
  },
  {
   "cell_type": "code",
   "execution_count": 99,
   "id": "98f98269-b11f-4bdc-b374-271258639732",
   "metadata": {},
   "outputs": [
    {
     "data": {
      "text/plain": [
       "array([[1.30216286, 1.84855177, 1.65554626],\n",
       "       [0.83826387, 1.26543136, 1.12213715]])"
      ]
     },
     "execution_count": 99,
     "metadata": {},
     "output_type": "execute_result"
    }
   ],
   "source": [
    "B.T @ A"
   ]
  },
  {
   "cell_type": "markdown",
   "id": "8356e8f0-161f-45a8-8224-0b24f7e9a133",
   "metadata": {},
   "source": [
    "# Size of objects in Memory"
   ]
  },
  {
   "cell_type": "code",
   "execution_count": 101,
   "id": "3b1a1786-6c4d-4147-90b2-aca2934132de",
   "metadata": {},
   "outputs": [
    {
     "data": {
      "text/plain": [
       "28"
      ]
     },
     "execution_count": 101,
     "metadata": {},
     "output_type": "execute_result"
    }
   ],
   "source": [
    "sys.getsizeof(1)"
   ]
  },
  {
   "cell_type": "code",
   "execution_count": 104,
   "id": "a1a7107c-a924-4461-a01c-c6e0a82addc8",
   "metadata": {},
   "outputs": [
    {
     "data": {
      "text/plain": [
       "468"
      ]
     },
     "execution_count": 104,
     "metadata": {},
     "output_type": "execute_result"
    }
   ],
   "source": [
    "sys.getsizeof(10**1000)"
   ]
  },
  {
   "cell_type": "code",
   "execution_count": 106,
   "id": "e7828308-1a65-4785-bde7-50efa3625693",
   "metadata": {},
   "outputs": [
    {
     "data": {
      "text/plain": [
       "4456"
      ]
     },
     "execution_count": 106,
     "metadata": {},
     "output_type": "execute_result"
    }
   ],
   "source": [
    "sys.getsizeof(10**10000)"
   ]
  },
  {
   "cell_type": "code",
   "execution_count": 107,
   "id": "7ff1c001-5af0-4f04-bb90-4c6428a81327",
   "metadata": {},
   "outputs": [
    {
     "data": {
      "text/plain": [
       "8"
      ]
     },
     "execution_count": 107,
     "metadata": {},
     "output_type": "execute_result"
    }
   ],
   "source": [
    "np.dtype(int).itemsize"
   ]
  },
  {
   "cell_type": "code",
   "execution_count": 108,
   "id": "b25291ad-01fc-4aca-ae94-3ebe18e00172",
   "metadata": {},
   "outputs": [
    {
     "data": {
      "text/plain": [
       "8"
      ]
     },
     "execution_count": 108,
     "metadata": {},
     "output_type": "execute_result"
    }
   ],
   "source": [
    "np.dtype(float).itemsize"
   ]
  },
  {
   "cell_type": "markdown",
   "id": "e89ab6ab-54e9-4b4e-b053-4013afb0474b",
   "metadata": {},
   "source": [
    "# list are even larger"
   ]
  },
  {
   "cell_type": "code",
   "execution_count": 109,
   "id": "8c6b4c57-a69b-42b2-bb6d-25eb4829b732",
   "metadata": {},
   "outputs": [
    {
     "data": {
      "text/plain": [
       "64"
      ]
     },
     "execution_count": 109,
     "metadata": {},
     "output_type": "execute_result"
    }
   ],
   "source": [
    "sys.getsizeof([1])"
   ]
  },
  {
   "cell_type": "markdown",
   "id": "510fa4b2-d7a9-4091-bb2d-77078039b2be",
   "metadata": {},
   "source": [
    "Speed Performance"
   ]
  },
  {
   "cell_type": "code",
   "execution_count": 121,
   "id": "1e7b9936-d8f1-410d-a9eb-95dc689b58c0",
   "metadata": {},
   "outputs": [],
   "source": [
    "l = range(100000000)"
   ]
  },
  {
   "cell_type": "code",
   "execution_count": 122,
   "id": "24151a5a-2f30-4615-8e49-2cd317633dd9",
   "metadata": {},
   "outputs": [],
   "source": [
    "a = np.arange(100000000)"
   ]
  },
  {
   "cell_type": "code",
   "execution_count": 123,
   "id": "a38d19a6-6eed-46c7-a9a5-07ed494abc51",
   "metadata": {},
   "outputs": [
    {
     "name": "stdout",
     "output_type": "stream",
     "text": [
      "CPU times: total: 406 ms\n",
      "Wall time: 429 ms\n"
     ]
    },
    {
     "data": {
      "text/plain": [
       "np.int64(662921401752298880)"
      ]
     },
     "execution_count": 123,
     "metadata": {},
     "output_type": "execute_result"
    }
   ],
   "source": [
    "%time (a ** 2).sum()"
   ]
  },
  {
   "cell_type": "code",
   "execution_count": 124,
   "id": "b6ecc648-4eb1-4a3c-a466-30c92069b6aa",
   "metadata": {},
   "outputs": [
    {
     "name": "stdout",
     "output_type": "stream",
     "text": [
      "CPU times: total: 46.3 s\n",
      "Wall time: 54.7 s\n"
     ]
    },
    {
     "data": {
      "text/plain": [
       "333333328333333350000000"
      ]
     },
     "execution_count": 124,
     "metadata": {},
     "output_type": "execute_result"
    }
   ],
   "source": [
    "%time sum([x ** 2 for x in l])"
   ]
  },
  {
   "cell_type": "markdown",
   "id": "c5aac211-121b-477b-bace-3b9875f20539",
   "metadata": {},
   "source": [
    "# **Useful Function**"
   ]
  },
  {
   "cell_type": "markdown",
   "id": "425be7af-617e-46cb-b31a-b8414cb46cdf",
   "metadata": {},
   "source": [
    "## random"
   ]
  },
  {
   "cell_type": "code",
   "execution_count": 128,
   "id": "ded1c5a9-9784-4d3a-8f74-462dbd628fe0",
   "metadata": {},
   "outputs": [],
   "source": [
    "# 生成指定均值和标准差的正态分布\n",
    "arr = np.random.normal(5, 2, size=(4, 4))"
   ]
  },
  {
   "cell_type": "code",
   "execution_count": 129,
   "id": "5d58e12f-0900-4264-9dd1-f0934d30d3d8",
   "metadata": {},
   "outputs": [
    {
     "data": {
      "text/plain": [
       "array([[0.61273487, 0.90759486, 0.09509331, 0.8975635 ],\n",
       "       [0.00345634, 0.32298996, 0.09573943, 0.52187674]])"
      ]
     },
     "execution_count": 129,
     "metadata": {},
     "output_type": "execute_result"
    }
   ],
   "source": [
    "# 生成 [0, 1) 区间均匀分布的随机浮点数数组\n",
    "np.random.rand(2, 4) "
   ]
  },
  {
   "cell_type": "markdown",
   "id": "753293f0-0217-40db-8c16-706d90a06f92",
   "metadata": {},
   "source": [
    "## arange"
   ]
  },
  {
   "cell_type": "code",
   "execution_count": 130,
   "id": "29d18e1c-8e99-4392-b309-1a61befbb972",
   "metadata": {},
   "outputs": [
    {
     "data": {
      "text/plain": [
       "array([0, 1, 2, 3, 4, 5, 6, 7, 8, 9])"
      ]
     },
     "execution_count": 130,
     "metadata": {},
     "output_type": "execute_result"
    }
   ],
   "source": [
    "np.arange(10)"
   ]
  },
  {
   "cell_type": "code",
   "execution_count": 131,
   "id": "672ce869-6378-46ae-988b-cd15a09a2ec2",
   "metadata": {},
   "outputs": [
    {
     "data": {
      "text/plain": [
       "array([1, 2, 3, 4, 5, 6, 7, 8, 9])"
      ]
     },
     "execution_count": 131,
     "metadata": {},
     "output_type": "execute_result"
    }
   ],
   "source": [
    "np.arange(1, 10)"
   ]
  },
  {
   "cell_type": "code",
   "execution_count": 132,
   "id": "26db9914-f4e1-48be-8b48-c4a2a6d207dc",
   "metadata": {},
   "outputs": [
    {
     "data": {
      "text/plain": [
       "array([1. , 1.2, 1.4, 1.6, 1.8, 2. , 2.2, 2.4, 2.6, 2.8, 3. , 3.2, 3.4,\n",
       "       3.6, 3.8, 4. , 4.2, 4.4, 4.6, 4.8, 5. , 5.2, 5.4, 5.6, 5.8, 6. ,\n",
       "       6.2, 6.4, 6.6, 6.8, 7. , 7.2, 7.4, 7.6, 7.8, 8. , 8.2, 8.4, 8.6,\n",
       "       8.8, 9. , 9.2, 9.4, 9.6, 9.8])"
      ]
     },
     "execution_count": 132,
     "metadata": {},
     "output_type": "execute_result"
    }
   ],
   "source": [
    "np.arange(1, 10, .2)"
   ]
  },
  {
   "cell_type": "markdown",
   "id": "8bad2e0e-0e93-494c-a450-57ebfeadacdb",
   "metadata": {},
   "source": [
    "## reshape"
   ]
  },
  {
   "cell_type": "code",
   "execution_count": 133,
   "id": "d912f496-a778-46af-85bf-f8ce67ed1805",
   "metadata": {},
   "outputs": [
    {
     "data": {
      "text/plain": [
       "array([[0, 1],\n",
       "       [2, 3],\n",
       "       [4, 5],\n",
       "       [6, 7],\n",
       "       [8, 9]])"
      ]
     },
     "execution_count": 133,
     "metadata": {},
     "output_type": "execute_result"
    }
   ],
   "source": [
    "np.arange(10).reshape(5, 2)"
   ]
  },
  {
   "cell_type": "markdown",
   "id": "012a9d1a-5d0c-46c8-940e-5fdc3b161d33",
   "metadata": {},
   "source": [
    "# zeros ones eyes empty"
   ]
  },
  {
   "cell_type": "code",
   "execution_count": 136,
   "id": "f80eed8f-7e86-46d3-adc7-bfd0ed670c42",
   "metadata": {},
   "outputs": [
    {
     "data": {
      "text/plain": [
       "array([[0., 0., 0.],\n",
       "       [0., 0., 0.],\n",
       "       [0., 0., 0.]])"
      ]
     },
     "execution_count": 136,
     "metadata": {},
     "output_type": "execute_result"
    }
   ],
   "source": [
    "np.zeros((3, 3))"
   ]
  },
  {
   "cell_type": "code",
   "execution_count": 146,
   "id": "cbfc16aa-ca67-4ce8-9da3-0e78e4ce3550",
   "metadata": {},
   "outputs": [
    {
     "data": {
      "text/plain": [
       "array([[1., 1., 1.],\n",
       "       [1., 1., 1.],\n",
       "       [1., 1., 1.]])"
      ]
     },
     "execution_count": 146,
     "metadata": {},
     "output_type": "execute_result"
    }
   ],
   "source": [
    "np.ones((3, 3))"
   ]
  },
  {
   "cell_type": "code",
   "execution_count": 147,
   "id": "24f48448-6ccc-4cad-9fc4-466bb2364e7b",
   "metadata": {},
   "outputs": [
    {
     "data": {
      "text/plain": [
       "array([[1., 0., 0.],\n",
       "       [0., 1., 0.],\n",
       "       [0., 0., 1.]])"
      ]
     },
     "execution_count": 147,
     "metadata": {},
     "output_type": "execute_result"
    }
   ],
   "source": [
    "np.eye(3, 3)"
   ]
  },
  {
   "cell_type": "code",
   "execution_count": 148,
   "id": "c6dd14f4-49cc-4531-a289-2bba3626a077",
   "metadata": {},
   "outputs": [
    {
     "data": {
      "text/plain": [
       "array([1., 1., 1.])"
      ]
     },
     "execution_count": 148,
     "metadata": {},
     "output_type": "execute_result"
    }
   ],
   "source": [
    "np.empty(3)"
   ]
  }
 ],
 "metadata": {
  "kernelspec": {
   "display_name": "Python 3 (ipykernel)",
   "language": "python",
   "name": "python3"
  },
  "language_info": {
   "codemirror_mode": {
    "name": "ipython",
    "version": 3
   },
   "file_extension": ".py",
   "mimetype": "text/x-python",
   "name": "python",
   "nbconvert_exporter": "python",
   "pygments_lexer": "ipython3",
   "version": "3.10.0"
  }
 },
 "nbformat": 4,
 "nbformat_minor": 5
}
