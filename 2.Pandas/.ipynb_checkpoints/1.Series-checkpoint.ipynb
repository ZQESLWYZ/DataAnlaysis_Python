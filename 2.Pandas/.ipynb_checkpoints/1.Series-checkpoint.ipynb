{
 "cells": [
  {
   "cell_type": "code",
   "execution_count": 2,
   "id": "126fab70-3cd3-46f1-8285-8ff131c317ba",
   "metadata": {},
   "outputs": [],
   "source": [
    "import numpy as np\n",
    "import pandas as pd"
   ]
  },
  {
   "cell_type": "markdown",
   "id": "0a249a99-1604-435a-b93e-08c4b19b84aa",
   "metadata": {},
   "source": [
    "# Pandas Series"
   ]
  },
  {
   "cell_type": "code",
   "execution_count": 3,
   "id": "f0652eee-35ad-42c8-b678-5b5ecd42e86e",
   "metadata": {},
   "outputs": [],
   "source": [
    "g7_pop = pd.Series([35.4, 63.9, 80.9, 60.6, 127.0, 64.51, 318.5])"
   ]
  },
  {
   "cell_type": "code",
   "execution_count": 4,
   "id": "4c79e468-6812-4a72-90c4-2bc512ce8f49",
   "metadata": {},
   "outputs": [
    {
     "data": {
      "text/plain": [
       "0     35.40\n",
       "1     63.90\n",
       "2     80.90\n",
       "3     60.60\n",
       "4    127.00\n",
       "5     64.51\n",
       "6    318.50\n",
       "dtype: float64"
      ]
     },
     "execution_count": 4,
     "metadata": {},
     "output_type": "execute_result"
    }
   ],
   "source": [
    "g7_pop"
   ]
  },
  {
   "cell_type": "code",
   "execution_count": 5,
   "id": "84663524-6e28-4345-b026-a0cb61347f88",
   "metadata": {},
   "outputs": [],
   "source": [
    "g7_pop.name = \"The population im millions\""
   ]
  },
  {
   "cell_type": "code",
   "execution_count": 6,
   "id": "d2ed1fe6-b2c8-4f2f-a944-7e1eb5e0002d",
   "metadata": {},
   "outputs": [
    {
     "data": {
      "text/plain": [
       "0     35.40\n",
       "1     63.90\n",
       "2     80.90\n",
       "3     60.60\n",
       "4    127.00\n",
       "5     64.51\n",
       "6    318.50\n",
       "Name: The population im millions, dtype: float64"
      ]
     },
     "execution_count": 6,
     "metadata": {},
     "output_type": "execute_result"
    }
   ],
   "source": [
    "g7_pop"
   ]
  },
  {
   "cell_type": "code",
   "execution_count": 7,
   "id": "cc65cda2-6ebd-4e4c-a657-d45d084e89ce",
   "metadata": {},
   "outputs": [
    {
     "data": {
      "text/plain": [
       "dtype('float64')"
      ]
     },
     "execution_count": 7,
     "metadata": {},
     "output_type": "execute_result"
    }
   ],
   "source": [
    "g7_pop.dtype"
   ]
  },
  {
   "cell_type": "code",
   "execution_count": 9,
   "id": "c7a9b99e-5a56-49cb-adf6-f3e3133321ec",
   "metadata": {},
   "outputs": [
    {
     "data": {
      "text/plain": [
       "array([ 35.4 ,  63.9 ,  80.9 ,  60.6 , 127.  ,  64.51, 318.5 ])"
      ]
     },
     "execution_count": 9,
     "metadata": {},
     "output_type": "execute_result"
    }
   ],
   "source": [
    "g7_pop.values"
   ]
  },
  {
   "cell_type": "code",
   "execution_count": 10,
   "id": "53875850-a3f0-4d68-9bc8-0d5a3a3a2b3e",
   "metadata": {},
   "outputs": [
    {
     "data": {
      "text/plain": [
       "numpy.ndarray"
      ]
     },
     "execution_count": 10,
     "metadata": {},
     "output_type": "execute_result"
    }
   ],
   "source": [
    "type(g7_pop.values)"
   ]
  },
  {
   "cell_type": "code",
   "execution_count": 11,
   "id": "5ede85be-c8d1-4f29-853f-f74d9c816862",
   "metadata": {},
   "outputs": [
    {
     "data": {
      "text/plain": [
       "np.float64(35.4)"
      ]
     },
     "execution_count": 11,
     "metadata": {},
     "output_type": "execute_result"
    }
   ],
   "source": [
    "g7_pop[0]"
   ]
  },
  {
   "cell_type": "code",
   "execution_count": 12,
   "id": "9f8c0803-16e0-4cc0-b855-2ebbfbf1541c",
   "metadata": {},
   "outputs": [
    {
     "data": {
      "text/plain": [
       "RangeIndex(start=0, stop=7, step=1)"
      ]
     },
     "execution_count": 12,
     "metadata": {},
     "output_type": "execute_result"
    }
   ],
   "source": [
    "g7_pop.index"
   ]
  },
  {
   "cell_type": "code",
   "execution_count": 15,
   "id": "6f6ceaca-0c8f-457d-9ca6-d1714abd0355",
   "metadata": {},
   "outputs": [],
   "source": [
    "g7_pop.index=[\n",
    "    \"Canada\",\n",
    "    \"France\",\n",
    "    \"Germany\",\n",
    "    \"Italy\",\n",
    "    \"Japan\",\n",
    "    \"UK\",\n",
    "    \"US\"\n",
    "]"
   ]
  },
  {
   "cell_type": "code",
   "execution_count": 16,
   "id": "eb680b3f-c24a-4394-a440-30f394c99dc8",
   "metadata": {},
   "outputs": [
    {
     "data": {
      "text/plain": [
       "Canada      35.40\n",
       "France      63.90\n",
       "Germany     80.90\n",
       "Italy       60.60\n",
       "Japan      127.00\n",
       "UK          64.51\n",
       "US         318.50\n",
       "Name: The population im millions, dtype: float64"
      ]
     },
     "execution_count": 16,
     "metadata": {},
     "output_type": "execute_result"
    }
   ],
   "source": [
    "g7_pop"
   ]
  },
  {
   "cell_type": "code",
   "execution_count": 17,
   "id": "edd418c5-9fdc-4c44-9373-8e453b2bcd41",
   "metadata": {},
   "outputs": [
    {
     "name": "stderr",
     "output_type": "stream",
     "text": [
      "C:\\Users\\Administrator\\AppData\\Local\\Temp\\ipykernel_13048\\297810826.py:1: FutureWarning: Series.__getitem__ treating keys as positions is deprecated. In a future version, integer keys will always be treated as labels (consistent with DataFrame behavior). To access a value by position, use `ser.iloc[pos]`\n",
      "  g7_pop[1]\n"
     ]
    },
    {
     "data": {
      "text/plain": [
       "np.float64(63.9)"
      ]
     },
     "execution_count": 17,
     "metadata": {},
     "output_type": "execute_result"
    }
   ],
   "source": [
    "g7_pop[1]"
   ]
  },
  {
   "cell_type": "code",
   "execution_count": 19,
   "id": "ff0d8acd-b30b-4b39-8fb2-e3230853515c",
   "metadata": {},
   "outputs": [
    {
     "data": {
      "text/plain": [
       "np.float64(63.9)"
      ]
     },
     "execution_count": 19,
     "metadata": {},
     "output_type": "execute_result"
    }
   ],
   "source": [
    "g7_pop.iloc[1]"
   ]
  },
  {
   "cell_type": "code",
   "execution_count": 20,
   "id": "319d62bc-fbbe-49a0-842f-ba8ccdb10f3e",
   "metadata": {},
   "outputs": [
    {
     "data": {
      "text/plain": [
       "np.float64(318.5)"
      ]
     },
     "execution_count": 20,
     "metadata": {},
     "output_type": "execute_result"
    }
   ],
   "source": [
    "g7_pop.loc[\"US\"]"
   ]
  },
  {
   "cell_type": "code",
   "execution_count": 22,
   "id": "bdbe9157-60b3-41e2-b81e-2dd7e737a408",
   "metadata": {},
   "outputs": [
    {
     "data": {
      "text/plain": [
       "Canada      35.40\n",
       "France      63.90\n",
       "Germany     80.90\n",
       "Italy       60.60\n",
       "Japan      127.00\n",
       "UK          64.51\n",
       "US         318.50\n",
       "dtype: float64"
      ]
     },
     "execution_count": 22,
     "metadata": {},
     "output_type": "execute_result"
    }
   ],
   "source": [
    "pd.Series(\n",
    "    [35.4, 63.9, 80.9, 60.6, 127.0, 64.51, 318.5],\n",
    "    index=[\n",
    "    \"Canada\",\n",
    "    \"France\",\n",
    "    \"Germany\",\n",
    "    \"Italy\",\n",
    "    \"Japan\",\n",
    "    \"UK\",\n",
    "    \"US\"\n",
    "]\n",
    ")"
   ]
  },
  {
   "cell_type": "code",
   "execution_count": 24,
   "id": "ac46f8f1-9dcb-429c-afaf-fbfe39fb7985",
   "metadata": {},
   "outputs": [
    {
     "data": {
      "text/plain": [
       "Canada      35.40\n",
       "France      63.90\n",
       "Germany     80.90\n",
       "Italy       60.60\n",
       "Japan      127.00\n",
       "UK          64.51\n",
       "US         318.50\n",
       "Name: The population in millions, dtype: float64"
      ]
     },
     "execution_count": 24,
     "metadata": {},
     "output_type": "execute_result"
    }
   ],
   "source": [
    "data_dict = {\n",
    "    'Canada': 35.40,\n",
    "    'France': 63.90,\n",
    "    'Germany': 80.90,\n",
    "    'Italy': 60.60,\n",
    "    'Japan': 127.00,\n",
    "    'UK': 64.51,\n",
    "    'US': 318.50\n",
    "}\n",
    "\n",
    "pd.Series(data_dict, name='The population in millions')"
   ]
  },
  {
   "cell_type": "code",
   "execution_count": 25,
   "id": "049f4e2e-c0d8-4f6a-a349-c987c5ec2972",
   "metadata": {},
   "outputs": [
    {
     "data": {
      "text/plain": [
       "France      63.90\n",
       "Germany     80.90\n",
       "Italy       60.60\n",
       "Japan      127.00\n",
       "UK          64.51\n",
       "US         318.50\n",
       "Name: The population in millions, dtype: float64"
      ]
     },
     "execution_count": 25,
     "metadata": {},
     "output_type": "execute_result"
    }
   ],
   "source": [
    "g7_pop.iloc[1:]"
   ]
  },
  {
   "cell_type": "code",
   "execution_count": 26,
   "id": "3c457132-d1d5-41ef-8769-b47dba6238a3",
   "metadata": {},
   "outputs": [
    {
     "data": {
      "text/plain": [
       "US         318.50\n",
       "UK          64.51\n",
       "Japan      127.00\n",
       "Italy       60.60\n",
       "Germany     80.90\n",
       "France      63.90\n",
       "Canada      35.40\n",
       "Name: The population in millions, dtype: float64"
      ]
     },
     "execution_count": 26,
     "metadata": {},
     "output_type": "execute_result"
    }
   ],
   "source": [
    "g7_pop.iloc[::-1]"
   ]
  },
  {
   "cell_type": "code",
   "execution_count": 30,
   "id": "e4604544-ff62-460c-a8b5-5765016da5f2",
   "metadata": {},
   "outputs": [
    {
     "data": {
      "text/plain": [
       "Canada    35.4\n",
       "France    63.9\n",
       "Name: The population in millions, dtype: float64"
      ]
     },
     "execution_count": 30,
     "metadata": {},
     "output_type": "execute_result"
    }
   ],
   "source": [
    "g7_pop.iloc[0:2]"
   ]
  },
  {
   "cell_type": "code",
   "execution_count": 33,
   "id": "49baae96-ba63-4709-a37b-3d59a4f48ea8",
   "metadata": {},
   "outputs": [
    {
     "data": {
      "text/plain": [
       "Italy     60.60\n",
       "Japan    127.00\n",
       "UK        64.51\n",
       "Name: The population in millions, dtype: float64"
      ]
     },
     "execution_count": 33,
     "metadata": {},
     "output_type": "execute_result"
    }
   ],
   "source": [
    "g7_pop[\"Italy\":\"UK\"] # 注意，Pandas的标签切片包含上限"
   ]
  },
  {
   "cell_type": "markdown",
   "id": "f72e38ec-24cb-4c58-a31c-04cfb8c9e68a",
   "metadata": {},
   "source": [
    "# Conditional Selection (Boolean Arrays)"
   ]
  },
  {
   "cell_type": "code",
   "execution_count": 35,
   "id": "fe4c22b8-d49f-4390-a5e6-96faa0b16f3f",
   "metadata": {},
   "outputs": [
    {
     "data": {
      "text/plain": [
       "Canada      35.40\n",
       "France      63.90\n",
       "Germany     80.90\n",
       "Italy       60.60\n",
       "Japan      127.00\n",
       "UK          64.51\n",
       "US         318.50\n",
       "Name: The population in millions, dtype: float64"
      ]
     },
     "execution_count": 35,
     "metadata": {},
     "output_type": "execute_result"
    }
   ],
   "source": [
    "g7_pop"
   ]
  },
  {
   "cell_type": "code",
   "execution_count": 38,
   "id": "86086590-e9d0-4d1a-b145-d1c5a381dd33",
   "metadata": {},
   "outputs": [
    {
     "data": {
      "text/plain": [
       "Canada     False\n",
       "France     False\n",
       "Germany     True\n",
       "Italy      False\n",
       "Japan       True\n",
       "UK         False\n",
       "US          True\n",
       "Name: The population in millions, dtype: bool"
      ]
     },
     "execution_count": 38,
     "metadata": {},
     "output_type": "execute_result"
    }
   ],
   "source": [
    "g7_pop > 80"
   ]
  },
  {
   "cell_type": "code",
   "execution_count": 39,
   "id": "f99e5e4b-953b-4e6d-93c1-7a3c2daf33e2",
   "metadata": {},
   "outputs": [
    {
     "data": {
      "text/plain": [
       "Germany     80.9\n",
       "Japan      127.0\n",
       "US         318.5\n",
       "Name: The population in millions, dtype: float64"
      ]
     },
     "execution_count": 39,
     "metadata": {},
     "output_type": "execute_result"
    }
   ],
   "source": [
    "g7_pop[g7_pop > 80]"
   ]
  },
  {
   "cell_type": "code",
   "execution_count": 47,
   "id": "59438511-fe6f-4a94-b9e8-a1ad1b3331b8",
   "metadata": {},
   "outputs": [
    {
     "data": {
      "text/plain": [
       "France      63.90\n",
       "Germany     80.90\n",
       "Italy       60.60\n",
       "Japan      127.00\n",
       "UK          64.51\n",
       "US         318.50\n",
       "Name: The population in millions, dtype: float64"
      ]
     },
     "execution_count": 47,
     "metadata": {},
     "output_type": "execute_result"
    }
   ],
   "source": [
    "g7_pop[g7_pop > g7_pop.mean()/2]"
   ]
  },
  {
   "cell_type": "code",
   "execution_count": 50,
   "id": "785605aa-042e-4952-9669-8047d3a136a9",
   "metadata": {},
   "outputs": [
    {
     "data": {
      "text/plain": [
       "np.float64(97.25869462907869)"
      ]
     },
     "execution_count": 50,
     "metadata": {},
     "output_type": "execute_result"
    }
   ],
   "source": [
    "g7_pop.std()"
   ]
  },
  {
   "cell_type": "code",
   "execution_count": 53,
   "id": "3e94800f-1cda-48b3-9523-b030f7cf7451",
   "metadata": {},
   "outputs": [
    {
     "data": {
      "text/plain": [
       "France      63.90\n",
       "Germany     80.90\n",
       "Italy       60.60\n",
       "Japan      127.00\n",
       "UK          64.51\n",
       "US         318.50\n",
       "Name: The population in millions, dtype: float64"
      ]
     },
     "execution_count": 53,
     "metadata": {},
     "output_type": "execute_result"
    }
   ],
   "source": [
    "g7_pop[(g7_pop > g7_pop.mean()/2) | (g7_pop > g7_pop.max()/2)]"
   ]
  },
  {
   "cell_type": "markdown",
   "id": "879a9042-6a5f-4d6d-a015-f67794bf36ba",
   "metadata": {},
   "source": [
    "# Opearations and Methods"
   ]
  },
  {
   "cell_type": "code",
   "execution_count": 43,
   "id": "15c68404-3ef0-4c21-8bc2-b1d0a68645ec",
   "metadata": {},
   "outputs": [
    {
     "data": {
      "text/plain": [
       "Canada      35.40\n",
       "France      63.90\n",
       "Germany     80.90\n",
       "Italy       60.60\n",
       "Japan      127.00\n",
       "UK          64.51\n",
       "US         318.50\n",
       "Name: The population in millions, dtype: float64"
      ]
     },
     "execution_count": 43,
     "metadata": {},
     "output_type": "execute_result"
    }
   ],
   "source": [
    "g7_pop"
   ]
  },
  {
   "cell_type": "code",
   "execution_count": 44,
   "id": "01dd07d0-be53-4a97-8dcd-fd137ab1b6ba",
   "metadata": {},
   "outputs": [
    {
     "data": {
      "text/plain": [
       "Canada      3540.0\n",
       "France      6390.0\n",
       "Germany     8090.0\n",
       "Italy       6060.0\n",
       "Japan      12700.0\n",
       "UK          6451.0\n",
       "US         31850.0\n",
       "Name: The population in millions, dtype: float64"
      ]
     },
     "execution_count": 44,
     "metadata": {},
     "output_type": "execute_result"
    }
   ],
   "source": [
    "g7_pop * 100"
   ]
  },
  {
   "cell_type": "code",
   "execution_count": 45,
   "id": "8fb44fef-3052-44da-adb0-f35fcd918b3b",
   "metadata": {},
   "outputs": [
    {
     "data": {
      "text/plain": [
       "Canada     3.566712\n",
       "France     4.157319\n",
       "Germany    4.393214\n",
       "Italy      4.104295\n",
       "Japan      4.844187\n",
       "UK         4.166820\n",
       "US         5.763622\n",
       "Name: The population in millions, dtype: float64"
      ]
     },
     "execution_count": 45,
     "metadata": {},
     "output_type": "execute_result"
    }
   ],
   "source": [
    "np.log(g7_pop)"
   ]
  },
  {
   "cell_type": "code",
   "execution_count": 46,
   "id": "f8f59323-2357-494f-9421-e1cdc4d201de",
   "metadata": {},
   "outputs": [
    {
     "data": {
      "text/plain": [
       "np.float64(107.25857142857141)"
      ]
     },
     "execution_count": 46,
     "metadata": {},
     "output_type": "execute_result"
    }
   ],
   "source": [
    "g7_pop.mean()"
   ]
  },
  {
   "cell_type": "markdown",
   "id": "add8a1df-8953-4d82-b6d2-be0249515c83",
   "metadata": {},
   "source": [
    "# Modifying Series"
   ]
  },
  {
   "cell_type": "code",
   "execution_count": 55,
   "id": "aeeba346-0d2b-487b-954b-ee8c6caf1c7d",
   "metadata": {},
   "outputs": [],
   "source": [
    "g7_pop[\"US\"] = 9.11"
   ]
  },
  {
   "cell_type": "code",
   "execution_count": 56,
   "id": "0c4a30a9-f48a-40e4-a74e-a1f78948cc92",
   "metadata": {},
   "outputs": [
    {
     "data": {
      "text/plain": [
       "Canada      35.40\n",
       "France      63.90\n",
       "Germany     80.90\n",
       "Italy       60.60\n",
       "Japan      127.00\n",
       "UK          64.51\n",
       "US           9.11\n",
       "Name: The population in millions, dtype: float64"
      ]
     },
     "execution_count": 56,
     "metadata": {},
     "output_type": "execute_result"
    }
   ],
   "source": [
    "g7_pop"
   ]
  },
  {
   "cell_type": "code",
   "execution_count": 57,
   "id": "af0d466f-134b-4685-978a-57cb590ba5e9",
   "metadata": {},
   "outputs": [],
   "source": [
    "g7_pop[g7_pop < 70] = 9.11"
   ]
  },
  {
   "cell_type": "code",
   "execution_count": 58,
   "id": "d80cf57c-abe0-445a-b420-2e65da8daf8e",
   "metadata": {},
   "outputs": [
    {
     "data": {
      "text/plain": [
       "Canada       9.11\n",
       "France       9.11\n",
       "Germany     80.90\n",
       "Italy        9.11\n",
       "Japan      127.00\n",
       "UK           9.11\n",
       "US           9.11\n",
       "Name: The population in millions, dtype: float64"
      ]
     },
     "execution_count": 58,
     "metadata": {},
     "output_type": "execute_result"
    }
   ],
   "source": [
    "g7_pop"
   ]
  }
 ],
 "metadata": {
  "kernelspec": {
   "display_name": "Python 3 (ipykernel)",
   "language": "python",
   "name": "python3"
  },
  "language_info": {
   "codemirror_mode": {
    "name": "ipython",
    "version": 3
   },
   "file_extension": ".py",
   "mimetype": "text/x-python",
   "name": "python",
   "nbconvert_exporter": "python",
   "pygments_lexer": "ipython3",
   "version": "3.10.0"
  }
 },
 "nbformat": 4,
 "nbformat_minor": 5
}
